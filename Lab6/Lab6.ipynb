{
  "nbformat": 4,
  "nbformat_minor": 0,
  "metadata": {
    "colab": {
      "provenance": []
    },
    "kernelspec": {
      "name": "python3",
      "display_name": "Python 3"
    },
    "language_info": {
      "name": "python"
    }
  },
  "cells": [
    {
      "cell_type": "markdown",
      "source": [
        "#### **Q1**\n"
      ],
      "metadata": {
        "id": "rYZB1G4sfgXZ"
      }
    },
    {
      "cell_type": "markdown",
      "source": [
        "a --> answer: a.\tThe value of pi = 3.14\n",
        "\n",
        "b --> answer: c.\tpi = 22/7 = 3.142\n",
        "\n",
        "c --> answer: Invalid syntax"
      ],
      "metadata": {
        "id": "gQIGoBCfiWE1"
      }
    },
    {
      "cell_type": "code",
      "source": [
        "# how to fix Invalid syntax\n",
        "x = 20 / 5\n",
        "print('20/5 = %d = %4.2f' % (x, x))"
      ],
      "metadata": {
        "id": "m9M-bAy2hNDS",
        "colab": {
          "base_uri": "https://localhost:8080/"
        },
        "outputId": "142e0d86-9260-4226-e202-b7f81a3ba64a"
      },
      "execution_count": 1,
      "outputs": [
        {
          "output_type": "stream",
          "name": "stdout",
          "text": [
            "20/5 = 4 = 4.00\n"
          ]
        }
      ]
    },
    {
      "cell_type": "markdown",
      "source": [
        "#### **Q2**"
      ],
      "metadata": {
        "id": "HnZYoqY9fgs1"
      }
    },
    {
      "cell_type": "code",
      "execution_count": 2,
      "metadata": {
        "colab": {
          "base_uri": "https://localhost:8080/"
        },
        "id": "lBl5DDOKfZtJ",
        "outputId": "28a8a781-7f3d-436f-9efe-3e13cb455359"
      },
      "outputs": [
        {
          "output_type": "stream",
          "name": "stdout",
          "text": [
            "998\n",
            "999\n",
            "1000\n",
            "1001\n"
          ]
        }
      ],
      "source": [
        "for i in range(998 ,1002 ):\n",
        "   print(i)"
      ]
    },
    {
      "cell_type": "markdown",
      "source": [
        "#### **Q3**"
      ],
      "metadata": {
        "id": "1koVHT_SiZ20"
      }
    },
    {
      "cell_type": "code",
      "source": [
        "a = 3.863\n",
        "print(\"%.3f \\t %.2f \\t %.1f \\n %.0f \\t %d\" %(a,a,a,a,a))"
      ],
      "metadata": {
        "id": "vO1CxUuIid7g",
        "colab": {
          "base_uri": "https://localhost:8080/"
        },
        "outputId": "91fcbf2f-d085-43e7-f11b-f13e35573bca"
      },
      "execution_count": 4,
      "outputs": [
        {
          "output_type": "stream",
          "name": "stdout",
          "text": [
            "3.863 \t 3.86 \t 3.9 \n",
            " 4 \t 3\n"
          ]
        }
      ]
    },
    {
      "cell_type": "markdown",
      "source": [
        "#### **Q4**"
      ],
      "metadata": {
        "id": "kO4j6xK2ifGa"
      }
    },
    {
      "cell_type": "code",
      "source": [
        "print(\"My name is Ahmed \\nFriends call me \\\"Mido :)\\\" \\nI don't like apples\\\\bananas\\\\peaches\")"
      ],
      "metadata": {
        "id": "os9fLJP6ikle",
        "colab": {
          "base_uri": "https://localhost:8080/"
        },
        "outputId": "53306100-0bef-4e61-cf84-148d820ebb37"
      },
      "execution_count": 5,
      "outputs": [
        {
          "output_type": "stream",
          "name": "stdout",
          "text": [
            "My name is Ahmed \n",
            "Friends call me \"Mido :)\" \n",
            "I don't like apples\\bananas\\peaches\n"
          ]
        }
      ]
    },
    {
      "cell_type": "markdown",
      "source": [
        "#### **Q5**"
      ],
      "metadata": {
        "id": "EHwWl55silR1"
      }
    },
    {
      "cell_type": "code",
      "source": [
        "s = \"Hello. My name is ahmed. I am from Cairo\"\n",
        "a = s.split()\n",
        "b = s.split(\",\")\n",
        "c = s.split(\".\")\n",
        "d = s.split(\". \")\n",
        "print(s)\n",
        "print(a)\n",
        "print(b)\n",
        "print(c)\n",
        "print(d)"
      ],
      "metadata": {
        "id": "EhkPgNvdinE7",
        "colab": {
          "base_uri": "https://localhost:8080/"
        },
        "outputId": "16496351-04b6-44ce-9283-bdb8d6c04199"
      },
      "execution_count": 6,
      "outputs": [
        {
          "output_type": "stream",
          "name": "stdout",
          "text": [
            "Hello. My name is ahmed. I am from Cairo\n",
            "['Hello.', 'My', 'name', 'is', 'ahmed.', 'I', 'am', 'from', 'Cairo']\n",
            "['Hello. My name is ahmed. I am from Cairo']\n",
            "['Hello', ' My name is ahmed', ' I am from Cairo']\n",
            "['Hello', 'My name is ahmed', 'I am from Cairo']\n"
          ]
        }
      ]
    },
    {
      "cell_type": "markdown",
      "source": [
        "#### **Q6**"
      ],
      "metadata": {
        "id": "KcaC4Uv2QnwP"
      }
    },
    {
      "cell_type": "code",
      "source": [
        "recs_num = int(input(\"Enter number of rectangles: \"))\n",
        "len = []\n",
        "wid = []\n",
        "area = []\n",
        "for i in range(recs_num):\n",
        "    len.append( float(input(f\"Enter length of rectangle {i + 1}: \")))\n",
        "    wid.append( float(input(f\"Enter width of rectangle {i + 1}: \")))\n",
        "\n",
        "for i in range(recs_num):\n",
        "  area.append (len[i]*wid[i])\n",
        "\n",
        "for i in range(recs_num):\n",
        "  print (f\"Num \\tLength \\tWidth \\tArea(approx.) \\n{i+1} \\t{len[i]} \\t{wid[i]} \\t{area[i]}\")"
      ],
      "metadata": {
        "colab": {
          "base_uri": "https://localhost:8080/"
        },
        "id": "1InTXHeBQKwK",
        "outputId": "0f04361a-96c5-4b11-e8e1-b3a9fcd78c78"
      },
      "execution_count": 8,
      "outputs": [
        {
          "output_type": "stream",
          "name": "stdout",
          "text": [
            "Enter number of rectangles: 2\n",
            "Enter length of rectangle 1: 1\n",
            "Enter width of rectangle 1: 2\n",
            "Enter length of rectangle 2: 3\n",
            "Enter width of rectangle 2: 4\n",
            "Num \tLength \tWidth \tArea(approx.) \n",
            "1 \t1.0 \t2.0 \t2.0\n",
            "Num \tLength \tWidth \tArea(approx.) \n",
            "2 \t3.0 \t4.0 \t12.0\n"
          ]
        }
      ]
    }
  ]
}