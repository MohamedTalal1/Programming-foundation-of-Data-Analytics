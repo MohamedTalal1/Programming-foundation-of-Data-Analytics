{
  "nbformat": 4,
  "nbformat_minor": 0,
  "metadata": {
    "colab": {
      "provenance": []
    },
    "kernelspec": {
      "name": "python3",
      "display_name": "Python 3"
    },
    "language_info": {
      "name": "python"
    }
  },
  "cells": [
    {
      "cell_type": "markdown",
      "source": [
        "### **Q4**"
      ],
      "metadata": {
        "id": "HmrirK1JrVZz"
      }
    },
    {
      "cell_type": "code",
      "execution_count": 8,
      "metadata": {
        "colab": {
          "base_uri": "https://localhost:8080/"
        },
        "id": "HrrIA9jerTyn",
        "outputId": "8fbe3ec0-30cb-4f17-e6a8-a6a9c99af642"
      },
      "outputs": [
        {
          "output_type": "stream",
          "name": "stdout",
          "text": [
            "Enter a number: 10\n",
            "Summation of the number you entered is: 55 \n"
          ]
        }
      ],
      "source": [
        "number = int(input(\"Enter a number: \"))\n",
        "summation =0\n",
        "if number<0:\n",
        "  print(\"The number you entered is negative\")\n",
        "else:\n",
        "  for i in range(number+1):\n",
        "    summation += i\n",
        "  print(f\"Summation of the number you entered is: {summation} \")"
      ]
    },
    {
      "cell_type": "markdown",
      "source": [
        "### **Q6**"
      ],
      "metadata": {
        "id": "VSHf2fXQrZO7"
      }
    },
    {
      "cell_type": "code",
      "source": [
        "N = int(input(\"Enter how many numbers you want to enter: \"))\n",
        "odd = 0\n",
        "even = 0\n",
        "\n",
        "for i in range (N):\n",
        "    number = int(input(f\"Enter a number: \"))\n",
        "    if number%2==0:\n",
        "       even+= number\n",
        "    else:\n",
        "       odd+= number\n",
        "\n",
        "print(f\"Sum of even numbers: {even}\")\n",
        "print(f\"Sum of odd number: {odd}\")"
      ],
      "metadata": {
        "colab": {
          "base_uri": "https://localhost:8080/"
        },
        "id": "MhXGDiBIreA8",
        "outputId": "a8663415-0bac-4b98-c57e-129a42b8d3a0"
      },
      "execution_count": 12,
      "outputs": [
        {
          "output_type": "stream",
          "name": "stdout",
          "text": [
            "Enter how many numbers you want to enter: 5\n",
            "Enter a number: 1\n",
            "Enter a number: 2\n",
            "Enter a number: 3\n",
            "Enter a number: 4\n",
            "Enter a number: 5\n",
            "Sum of even numbers: 6\n",
            "Sum of odd number: 9\n"
          ]
        }
      ]
    },
    {
      "cell_type": "markdown",
      "source": [
        "### **Q9**"
      ],
      "metadata": {
        "id": "W4BLHEZSrZWZ"
      }
    },
    {
      "cell_type": "code",
      "source": [
        "departure_time = input(\"Enter the departure time in this format \"\"HH:MM\"\" note that it is in 24 hours format: \")\n",
        "arrival_time = input(\"Enter the arrival time in this format \"\"HH:MM\"\" note that it is in 24 hours format: \")\n",
        "\n",
        "dhours, dminutes = map(int, departure_time.split(':'))\n",
        "ahours, aminutes = map(int, arrival_time.split(':'))\n",
        "\n",
        "tot_hours = ahours - dhours\n",
        "tot_minutes = aminutes - dminutes\n",
        "\n",
        "if tot_minutes < 0:\n",
        "    tot_hours -= 1\n",
        "    tot_minutes += 60\n",
        "\n",
        "print(f\"The trip time will be {tot_hours} hr and {tot_minutes} min\")"
      ],
      "metadata": {
        "colab": {
          "base_uri": "https://localhost:8080/"
        },
        "id": "PRRndO95rdUF",
        "outputId": "84961285-51fa-479e-cfcc-01fbccbe0d73"
      },
      "execution_count": 17,
      "outputs": [
        {
          "output_type": "stream",
          "name": "stdout",
          "text": [
            "Enter the departure time in this format HH:MM note that it is in 24 hours format: 12:50\n",
            "Enter the arrival time in this format HH:MM note that it is in 24 hours format: 15:20\n",
            "The trip time will be 2 hr and 30 min\n"
          ]
        }
      ]
    }
  ]
}