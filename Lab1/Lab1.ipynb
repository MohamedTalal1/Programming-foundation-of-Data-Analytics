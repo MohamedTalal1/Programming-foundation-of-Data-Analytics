{
  "nbformat": 4,
  "nbformat_minor": 0,
  "metadata": {
    "colab": {
      "provenance": []
    },
    "kernelspec": {
      "name": "python3",
      "display_name": "Python 3"
    },
    "language_info": {
      "name": "python"
    }
  },
  "cells": [
    {
      "cell_type": "markdown",
      "source": [
        "### **Q7**"
      ],
      "metadata": {
        "id": "JHnw8hfBm4NO"
      }
    },
    {
      "cell_type": "code",
      "execution_count": 1,
      "metadata": {
        "colab": {
          "base_uri": "https://localhost:8080/"
        },
        "id": "2CilGlgbm3W2",
        "outputId": "78b237a2-b4af-4339-c671-03434d4772dd"
      },
      "outputs": [
        {
          "output_type": "stream",
          "name": "stdout",
          "text": [
            "Total number of glasses: 25\n",
            "Glasses per tray: 6\n",
            "Number of trays needed to hold 25 glasses with 6 glasses per tray: 5\n"
          ]
        }
      ],
      "source": [
        "X = int(input(\"Total number of glasses: \"))\n",
        "Y = int(input(\"Glasses per tray: \"))\n",
        "\n",
        "N = (X + Y - 1) // Y\n",
        "print(f\"Number of trays needed to hold {X} glasses with {Y} glasses per tray: {N}\")"
      ]
    },
    {
      "cell_type": "markdown",
      "source": [
        "### **Q8**"
      ],
      "metadata": {
        "id": "Mu4guo5EnKKU"
      }
    },
    {
      "cell_type": "code",
      "source": [
        "tot_num = int(input(\"Enter the total number of apples: \"))\n",
        "\n",
        "groups = tot_num // 7\n",
        "rem_apples = tot_num % 7\n",
        "\n",
        "print(f\"there is {groups} groups will contain exactly 7 apples, and {rem_apples} apples will remain.\")\n"
      ],
      "metadata": {
        "colab": {
          "base_uri": "https://localhost:8080/"
        },
        "id": "drbvc2_Rm9KS",
        "outputId": "959afd83-ee26-4e96-ff1e-1d71a920bf6e"
      },
      "execution_count": 10,
      "outputs": [
        {
          "output_type": "stream",
          "name": "stdout",
          "text": [
            "Enter the total number of apples: 41\n",
            "there is 5 groups will contain exactly 7 apples, and 6 apples will remain.\n"
          ]
        }
      ]
    },
    {
      "cell_type": "markdown",
      "source": [
        "### **Q12**"
      ],
      "metadata": {
        "id": "4YwRwDeDousl"
      }
    },
    {
      "cell_type": "code",
      "source": [
        "units = input(\"Enter one digit of units: \")\n",
        "tens = input(\"Enter one digit of tens: \")\n",
        "hundreds = input(\"Enter one digit of hundreds: \")\n",
        "\n",
        "if len(units) == 1 and len(tens) == 1 and len(hundreds) == 1 and units.isdigit() and tens.isdigit() and hundreds.isdigit():\n",
        "    number = hundreds + tens + units\n",
        "    print(f\"The constructed number is: {number}\")\n",
        "else:\n",
        "    print(\"Please enter valid one-digit numbers.\")"
      ],
      "metadata": {
        "colab": {
          "base_uri": "https://localhost:8080/"
        },
        "id": "3MS9EmZcoVjc",
        "outputId": "e32dee52-9b84-4861-a495-c4afc9a7cc5a"
      },
      "execution_count": 13,
      "outputs": [
        {
          "output_type": "stream",
          "name": "stdout",
          "text": [
            "Enter one digit of units: 1\n",
            "Enter one digit of tens: 2\n",
            "Enter one digit of hundreds: 3\n",
            "The constructed number is: 321\n"
          ]
        }
      ]
    }
  ]
}