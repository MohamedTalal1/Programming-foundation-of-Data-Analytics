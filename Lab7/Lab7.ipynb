{
  "nbformat": 4,
  "nbformat_minor": 0,
  "metadata": {
    "colab": {
      "provenance": [],
      "collapsed_sections": [
        "xZ1jdSRjUQTO",
        "HIzXwNO4UQV-",
        "5Yl33vBiUQaN",
        "709A-QLCUQhH",
        "6cfR2txjUQnW",
        "qqEikfM-UQqF",
        "-fgZliy9UQs2"
      ]
    },
    "kernelspec": {
      "name": "python3",
      "display_name": "Python 3"
    },
    "language_info": {
      "name": "python"
    }
  },
  "cells": [
    {
      "cell_type": "markdown",
      "source": [
        "#### **Q1**"
      ],
      "metadata": {
        "id": "xZ1jdSRjUQTO"
      }
    },
    {
      "cell_type": "markdown",
      "source": [
        "\n",
        "\n",
        "\n",
        "1.\tIf A is false and B is true, then which of the following expressions is false?\n",
        "\n",
        "o\tnot A and B or B\n",
        "\n",
        "**o\tA or A and B**\n",
        "\n",
        "o\tnot (A and  B or A)\n",
        "\n",
        "o\tAll of the above\n",
        "\n",
        "(The answer is \"A or A and B\" --> A is false , A and B is false ,Hence the answer is false)\n"
      ],
      "metadata": {
        "id": "QnZLkxUybR1Z"
      }
    },
    {
      "cell_type": "markdown",
      "source": [
        "#### **Q2**"
      ],
      "metadata": {
        "id": "HIzXwNO4UQV-"
      }
    },
    {
      "cell_type": "markdown",
      "source": [
        "(math.trunc(1.5) - 15%3 ) < 2   is  True because math.trunc(1.5) is 1 , 15%3 = 0"
      ],
      "metadata": {
        "id": "GpR3Pkg0dI4k"
      }
    },
    {
      "cell_type": "markdown",
      "source": [
        "#### **Q3**"
      ],
      "metadata": {
        "id": "5Yl33vBiUQaN"
      }
    },
    {
      "cell_type": "markdown",
      "source": [
        "The first condition (Q > T or Q > 8) is true.\n",
        "Then R = 10\n",
        "\n",
        "The second condition (T == 0 or Q == 2 or Q > T) is true.\n",
        "Then R = 4"
      ],
      "metadata": {
        "id": "rVkzYT79d9N9"
      }
    },
    {
      "cell_type": "markdown",
      "source": [
        "#### **Q4**"
      ],
      "metadata": {
        "id": "QD4nv8XEUQdC"
      }
    },
    {
      "cell_type": "markdown",
      "source": [
        "The first condition (B / C) >= 2 is False\n",
        "\n",
        "The second condition (B / C) == 2 is true\n",
        "Then C = 11"
      ],
      "metadata": {
        "id": "a-oY75DZejrQ"
      }
    },
    {
      "cell_type": "markdown",
      "source": [
        "#### **Q5**"
      ],
      "metadata": {
        "id": "709A-QLCUQhH"
      }
    },
    {
      "cell_type": "markdown",
      "source": [
        "5.\tWhich command is usually used to repeat a set of commands an unknown number of times?\n",
        "**o\twhile**\t\t//\n",
        "\n",
        "o\tfor\n",
        "\n",
        "o\tif\n"
      ],
      "metadata": {
        "id": "_EmvfWvNe_l9"
      }
    },
    {
      "cell_type": "markdown",
      "source": [
        "#### **Q6**"
      ],
      "metadata": {
        "id": "6cfR2txjUQnW"
      }
    },
    {
      "cell_type": "markdown",
      "source": [
        "6.\tWhich of the following for statement will run 10 times :\n",
        "\n",
        "o\tfor 1:10:\n",
        "\n",
        "**o\tfor i in range(21,31):**  //\n",
        "\n",
        "o\tfor i in range(1,10):\n",
        "\n",
        "**o\tfor i in range(11,1,-1):**  //\n"
      ],
      "metadata": {
        "id": "mVoz2YGXfOne"
      }
    },
    {
      "cell_type": "markdown",
      "source": [
        "#### **Q7**"
      ],
      "metadata": {
        "id": "qqEikfM-UQqF"
      }
    },
    {
      "cell_type": "markdown",
      "source": [
        "7.\twhich of the following loops will not run forever :\n",
        "\n",
        "o\twhile 1:\n",
        "\n",
        "**o\tfor i in ‘orange’:**  //\n",
        "\n",
        "**o\tfor i in x:\n",
        "\tx.append(1)**   //\n",
        "\n",
        "o\twhile -3:\n",
        "\n",
        "**o\twhile 0:**  //\n"
      ],
      "metadata": {
        "id": "CTHUzH9kgVR3"
      }
    },
    {
      "cell_type": "markdown",
      "source": [
        "#### **Q8**"
      ],
      "metadata": {
        "id": "-fgZliy9UQs2"
      }
    },
    {
      "cell_type": "code",
      "source": [
        "i = 1\n",
        "for x in range( 1,4) :\n",
        "     i = i * x\n",
        "     print('%d  ' %x)"
      ],
      "metadata": {
        "colab": {
          "base_uri": "https://localhost:8080/"
        },
        "id": "su-vX433gtaR",
        "outputId": "a3a0b29d-f6f0-461f-f188-36c60d64f6b1"
      },
      "execution_count": 14,
      "outputs": [
        {
          "output_type": "stream",
          "name": "stdout",
          "text": [
            "1  \n",
            "2  \n",
            "3  \n"
          ]
        }
      ]
    },
    {
      "cell_type": "markdown",
      "source": [
        "#### **Q9**"
      ],
      "metadata": {
        "id": "ZjJWxgLnUQv0"
      }
    },
    {
      "cell_type": "code",
      "source": [
        "num = int(input(\"Enter a number: \"))\n",
        "\n",
        "for i in range(1, num+1):\n",
        "    for j in range(1, i+1):\n",
        "        print(i * j, end=\"\\t\")\n",
        "    print()"
      ],
      "metadata": {
        "colab": {
          "base_uri": "https://localhost:8080/"
        },
        "id": "9XW5Yf9zh9_8",
        "outputId": "9ebff32f-1486-4a0f-d0d1-86149a3ec47c"
      },
      "execution_count": 17,
      "outputs": [
        {
          "output_type": "stream",
          "name": "stdout",
          "text": [
            "Enter a number: 10\n",
            "1\t\n",
            "2\t4\t\n",
            "3\t6\t9\t\n",
            "4\t8\t12\t16\t\n",
            "5\t10\t15\t20\t25\t\n",
            "6\t12\t18\t24\t30\t36\t\n",
            "7\t14\t21\t28\t35\t42\t49\t\n",
            "8\t16\t24\t32\t40\t48\t56\t64\t\n",
            "9\t18\t27\t36\t45\t54\t63\t72\t81\t\n",
            "10\t20\t30\t40\t50\t60\t70\t80\t90\t100\t\n"
          ]
        }
      ]
    }
  ]
}