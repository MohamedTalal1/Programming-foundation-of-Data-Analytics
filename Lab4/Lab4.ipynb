{
  "nbformat": 4,
  "nbformat_minor": 0,
  "metadata": {
    "colab": {
      "provenance": []
    },
    "kernelspec": {
      "name": "python3",
      "display_name": "Python 3"
    },
    "language_info": {
      "name": "python"
    }
  },
  "cells": [
    {
      "cell_type": "markdown",
      "source": [
        "#### **Q1**"
      ],
      "metadata": {
        "id": "rn2VM1EYTb_u"
      }
    },
    {
      "cell_type": "code",
      "execution_count": 4,
      "metadata": {
        "colab": {
          "base_uri": "https://localhost:8080/"
        },
        "id": "gyww2gTkTOJV",
        "outputId": "1b2d2552-2a05-4717-d74c-872c23a78211"
      },
      "outputs": [
        {
          "output_type": "stream",
          "name": "stdout",
          "text": [
            "Enter what did you bring: arduino capacitors leds battery\n",
            "I don’t need to bring the battery\n"
          ]
        }
      ],
      "source": [
        "team_input = input(\"Enter what did you bring: \")\n",
        "items = team_input.split(' ')\n",
        "if 'battery' in items:\n",
        "  print ('I don’t need to bring the battery')\n",
        "else:\n",
        "  print ('I will need to bring the battery')"
      ]
    },
    {
      "cell_type": "markdown",
      "source": [
        "#### **Q3**"
      ],
      "metadata": {
        "id": "OHtf1XCDTcIT"
      }
    },
    {
      "cell_type": "code",
      "source": [
        "soup = input (\"Enter your soup: \")\n",
        "meal = input (\"Enter your meal: \")\n",
        "soup = soup.lower()\n",
        "meal = meal.lower()\n",
        "\n",
        "if soup in ('vegetables','mushroom') and meal in 'mashed potatoes':\n",
        "  print (\"she loves vegetables\")\n",
        "elif soup in 'seafood' and meal in ('burger','grilled chicken'):\n",
        "  print (\"she hates vagetables\")\n",
        "else:\n",
        "  print (\"otherwise she would neither hate nor love vegetables\")"
      ],
      "metadata": {
        "colab": {
          "base_uri": "https://localhost:8080/"
        },
        "id": "TbcmlOa-TlHl",
        "outputId": "458d347a-60be-47b0-ead1-2082e0edf9b4"
      },
      "execution_count": 8,
      "outputs": [
        {
          "output_type": "stream",
          "name": "stdout",
          "text": [
            "Enter your soup: mushroom\n",
            "Enter your meal: mashed potatoes\n",
            "she loves vegetables\n"
          ]
        }
      ]
    },
    {
      "cell_type": "markdown",
      "source": [
        "#### **Q5**"
      ],
      "metadata": {
        "id": "LFYULFwlTcQR"
      }
    },
    {
      "cell_type": "code",
      "source": [
        "counter = 5\n",
        "while counter > 0:\n",
        "\n",
        "  weight = int(input (\"Enter weight: \"))\n",
        "  unit = int (input(\"Enter weight unit (1 for mg, 2 for kg, 3 for ton): \"))\n",
        "\n",
        "  if weight < 0:\n",
        "    print (\"Invalid weight\")\n",
        "    break\n",
        "  elif unit not in [1,2,3]:\n",
        "    print (\"Invalid unit\")\n",
        "    break\n",
        "\n",
        "  elif unit == 1:\n",
        "    res = weight / 1000\n",
        "    print (f\"Converting Mg to gram: {res}\")\n",
        "    cont = input(\"Do you want to make another conversion? \")\n",
        "\n",
        "  elif unit == 2:\n",
        "    res = weight * 1000\n",
        "    print (f\"Converting Kg to gram: {res}\")\n",
        "    cont = input(\"Do you want to make another conversion? \")\n",
        "\n",
        "  elif unit == 3:\n",
        "    res = weight * 907200\n",
        "    print (f\"Converting Ton to gram: {res}\")\n",
        "    cont = input(\"Do you want to make another conversion? \")\n",
        "\n",
        "  if cont.lower() == 'no':\n",
        "    break\n",
        "  else:\n",
        "    counter -=1"
      ],
      "metadata": {
        "colab": {
          "base_uri": "https://localhost:8080/"
        },
        "id": "iZdasAYjTlka",
        "outputId": "c87f4b70-cabd-401f-f668-402beba55cfb"
      },
      "execution_count": 14,
      "outputs": [
        {
          "name": "stdout",
          "output_type": "stream",
          "text": [
            "Enter weight: 10\n",
            "Enter weight unit (1 for mg, 2 for kg, 3 for ton): 2\n",
            "Converting Kg to gram: 10000\n",
            "Do you want to make another conversion? yes\n",
            "Enter weight: 10\n",
            "Enter weight unit (1 for mg, 2 for kg, 3 for ton): 1\n",
            "Converting Mg to gram: 0.01\n",
            "Do you want to make another conversion? yes\n",
            "Enter weight: 10\n",
            "Enter weight unit (1 for mg, 2 for kg, 3 for ton): 3\n",
            "Converting Ton to gram: 9072000\n",
            "Do you want to make another conversion? no\n"
          ]
        }
      ]
    },
    {
      "cell_type": "markdown",
      "source": [
        "#### **Q7**"
      ],
      "metadata": {
        "id": "OAyu-DDyTcXp"
      }
    },
    {
      "cell_type": "code",
      "source": [
        "friends = input (\"Friends: \")\n",
        "friends = friends.split(' ')\n",
        "ls = []\n",
        "\n",
        "for i in range (len (friends)):\n",
        "  presents = input (f\"what did {friends[i]} brings? \")\n",
        "  ls.append(presents)\n",
        "# presents = input (\"Presents: \")\n",
        "# presents = presents.split(' ')\n",
        "in_mind = input (\"what is in his mind: \")\n",
        "\n",
        "if in_mind in ls:\n",
        "  loc = ls.index(in_mind)\n",
        "  print (f\"Oh {friends[loc]}, Thank you friend :)\")\n",
        "else:\n",
        "  print (\"Opps, Sorry none.\")"
      ],
      "metadata": {
        "colab": {
          "base_uri": "https://localhost:8080/"
        },
        "id": "w8Dt7Kk2TjQz",
        "outputId": "feb65d6c-0518-4736-e12e-f43c0ae38a65"
      },
      "execution_count": 22,
      "outputs": [
        {
          "output_type": "stream",
          "name": "stdout",
          "text": [
            "Friends: mohmaed talal wael ahmed\n",
            "what did mohmaed brings? ball\n",
            "what did talal brings? car\n",
            "what did wael brings? playstation\n",
            "what did ahmed brings? shoes\n",
            "what is in his mind: car\n",
            "Oh talal, Thank you friend :)\n"
          ]
        }
      ]
    }
  ]
}