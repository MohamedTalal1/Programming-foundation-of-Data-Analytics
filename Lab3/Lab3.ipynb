{
  "nbformat": 4,
  "nbformat_minor": 0,
  "metadata": {
    "colab": {
      "provenance": []
    },
    "kernelspec": {
      "name": "python3",
      "display_name": "Python 3"
    },
    "language_info": {
      "name": "python"
    }
  },
  "cells": [
    {
      "cell_type": "markdown",
      "source": [
        "### **Q2**"
      ],
      "metadata": {
        "id": "6HgpaaXGxvmQ"
      }
    },
    {
      "cell_type": "code",
      "source": [
        "full_name = input(\"Enter your full name: \")\n",
        "sub_name = full_name.split()\n",
        "if len(sub_name) >= 2:\n",
        "    fname = sub_name[0]\n",
        "    lname = sub_name[-1]\n",
        "    print(f\"Your first name is: {fname}\")\n",
        "    print(f\"Your last name is: {lname}\")\n",
        "\n",
        "else:\n",
        "      print(\"Please enter first name and a last name\")"
      ],
      "metadata": {
        "colab": {
          "base_uri": "https://localhost:8080/"
        },
        "id": "1FvCI6QVx2P-",
        "outputId": "7e599364-b55d-4e56-ef29-fbb7930081eb"
      },
      "execution_count": 4,
      "outputs": [
        {
          "output_type": "stream",
          "name": "stdout",
          "text": [
            "Enter your full name: mohamed talal mahmoud\n",
            "Your first name is: mohamed\n",
            "Your last name is: mahmoud\n"
          ]
        }
      ]
    },
    {
      "cell_type": "markdown",
      "source": [
        "### **Q3**"
      ],
      "metadata": {
        "id": "cEaTY7jcxvvB"
      }
    },
    {
      "cell_type": "code",
      "source": [
        "statement = input(\"Enter a statement: \")\n",
        "count = 0\n",
        "vowels = set(\"aeiou\")\n",
        "statement = statement.lower()\n",
        "\n",
        "for char in statement:\n",
        "    if char in vowels:\n",
        "        count += 1\n",
        "\n",
        "if count > 0:\n",
        "    print(f\"Number of vowels in the statement: {count}\")\n",
        "else:\n",
        "    print(\"No vowels in the statement\")"
      ],
      "metadata": {
        "colab": {
          "base_uri": "https://localhost:8080/"
        },
        "id": "fPSTblmwx2od",
        "outputId": "abc606a6-2d8c-480b-a1c2-c4f2402307cb"
      },
      "execution_count": 5,
      "outputs": [
        {
          "output_type": "stream",
          "name": "stdout",
          "text": [
            "Enter a statement: my name is mohamed talal\n",
            "Number of vowels in the statement: 8\n"
          ]
        }
      ]
    }
  ]
}