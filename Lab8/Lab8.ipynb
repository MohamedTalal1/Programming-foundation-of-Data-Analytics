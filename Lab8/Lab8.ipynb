{
 "cells": [
  {
   "cell_type": "markdown",
   "id": "3d23dcaa",
   "metadata": {},
   "source": [
    "### Q1"
   ]
  },
  {
   "cell_type": "markdown",
   "id": "0076d17e",
   "metadata": {},
   "source": [
    "Errors:\n",
    "1. missing semi colon\n",
    "2. i not I \n",
    "3. return sum not y"
   ]
  },
  {
   "cell_type": "code",
   "execution_count": 13,
   "id": "63de0b9e",
   "metadata": {},
   "outputs": [],
   "source": [
    "def  myfun(x):\n",
    "    sum=0\n",
    "    for i in range(1,11):\n",
    "        sum = sum+x[i]\n",
    "    return sum"
   ]
  },
  {
   "cell_type": "markdown",
   "id": "8dc24df5",
   "metadata": {},
   "source": [
    "### Q2"
   ]
  },
  {
   "cell_type": "markdown",
   "id": "3e4e9df2",
   "metadata": {},
   "source": [
    "after correcting the code with missed semi colons, foo1(5) value is **15**"
   ]
  },
  {
   "cell_type": "code",
   "execution_count": 14,
   "id": "8a2fd3c1",
   "metadata": {},
   "outputs": [],
   "source": [
    "def foo1(x):\n",
    "    y=foo2(x*2)\n",
    "    return y\n",
    "\n",
    "def foo2(x):\n",
    "    y= x+5\n",
    "    return y"
   ]
  },
  {
   "cell_type": "markdown",
   "id": "2a08490c",
   "metadata": {},
   "source": [
    "### Q3"
   ]
  },
  {
   "cell_type": "code",
   "execution_count": 25,
   "id": "ffd093e8",
   "metadata": {},
   "outputs": [
    {
     "name": "stdout",
     "output_type": "stream",
     "text": [
      "0.00 degrees Celsius and 273.15 Kelvin.\n"
     ]
    }
   ],
   "source": [
    "def convert_temperature(fahrenheit):\n",
    "    celsius = (fahrenheit - 32) * 5/9\n",
    "    \n",
    "    kelvin = celsius + 273.15\n",
    "    \n",
    "    print(f\"{celsius:.2f} degrees Celsius and {kelvin:.2f} Kelvin.\")\n",
    "    \n",
    "convert_temperature(32)"
   ]
  },
  {
   "cell_type": "markdown",
   "id": "db21d528",
   "metadata": {},
   "source": [
    "### Q4"
   ]
  },
  {
   "cell_type": "code",
   "execution_count": 26,
   "id": "3931325e",
   "metadata": {},
   "outputs": [
    {
     "name": "stdout",
     "output_type": "stream",
     "text": [
      "Polar Coordinates: (r = 5.0, theta = 0.9272952180016122)\n"
     ]
    }
   ],
   "source": [
    "import math\n",
    "\n",
    "def recpol(x, y):\n",
    "    r = math.sqrt(x**2 + y**2)\n",
    "    \n",
    "    if x > 0:\n",
    "        theta = math.atan(y / x)\n",
    "    elif x < 0:\n",
    "        theta = math.atan(y / x) + math.pi\n",
    "    else:\n",
    "        theta = math.pi / 2 if y > 0 else -math.pi / 2 if y < 0 else 0\n",
    "    \n",
    "    print(f\"Polar Coordinates: (r = {r}, theta = {theta})\")\n",
    "\n",
    "recpol(3,4)"
   ]
  },
  {
   "cell_type": "markdown",
   "id": "c779b35a",
   "metadata": {},
   "source": [
    "### Q5"
   ]
  },
  {
   "cell_type": "code",
   "execution_count": 32,
   "id": "4185bd6e",
   "metadata": {},
   "outputs": [
    {
     "name": "stdout",
     "output_type": "stream",
     "text": [
      "['B', 'A', 'C', 'D', 'C', 'F']\n"
     ]
    }
   ],
   "source": [
    "def compute_grades(list):\n",
    "    grades = []\n",
    "    for score in list:\n",
    "        if score >= 90:\n",
    "            grades.append('A')\n",
    "            \n",
    "        elif 80 <= score < 90:\n",
    "            grades.append('B')\n",
    "            \n",
    "        elif 70 <= score < 80:\n",
    "            grades.append('C')\n",
    "            \n",
    "        elif 60 <= score < 70:\n",
    "            grades.append('D')\n",
    "            \n",
    "        else:\n",
    "            grades.append('F')\n",
    "    print(grades)\n",
    "\n",
    "\n",
    "students_scores = [85, 92, 76, 63, 78, 40]\n",
    "\n",
    "compute_grades(students_scores)"
   ]
  },
  {
   "cell_type": "markdown",
   "id": "d090f36e",
   "metadata": {},
   "source": [
    "### Q6"
   ]
  },
  {
   "cell_type": "code",
   "execution_count": 39,
   "id": "68958de4",
   "metadata": {},
   "outputs": [
    {
     "name": "stdout",
     "output_type": "stream",
     "text": [
      "Enter an angle in degrees: 40\n",
      "Angle in degrees: 40.0\n",
      "Angle in radians: 0.6981\n"
     ]
    }
   ],
   "source": [
    "import math\n",
    "\n",
    "def get_user_input():\n",
    "    try:\n",
    "        angle_degrees = float(input(\"Enter an angle in degrees: \"))\n",
    "        return angle_degrees\n",
    "    except ValueError:\n",
    "        print(\"Invalid input! Please enter a numeric value.\")\n",
    "        return None\n",
    "\n",
    "def degrees_to_radians(angle_degrees):\n",
    "    angle_radians = math.radians(angle_degrees)\n",
    "    return angle_radians\n",
    "\n",
    "def print_result(angle_degrees, angle_radians):\n",
    "    print(f\"Angle in degrees: {angle_degrees}\")\n",
    "    print(f\"Angle in radians: {angle_radians:.4f}\")\n",
    "    \n",
    "degree = get_user_input()\n",
    "rad = degrees_to_radians(degree)\n",
    "print_result(degree,rad)"
   ]
  },
  {
   "cell_type": "markdown",
   "id": "1eacd9d6",
   "metadata": {},
   "source": [
    "### Q7"
   ]
  },
  {
   "cell_type": "code",
   "execution_count": 44,
   "id": "c1c1ca3c",
   "metadata": {},
   "outputs": [
    {
     "data": {
      "text/plain": [
       "'demahom'"
      ]
     },
     "execution_count": 44,
     "metadata": {},
     "output_type": "execute_result"
    }
   ],
   "source": [
    "def reverse(string):\n",
    "    return string[::-1]\n",
    "\n",
    "reverse('mohamed')"
   ]
  }
 ],
 "metadata": {
  "kernelspec": {
   "display_name": "Python 3 (ipykernel)",
   "language": "python",
   "name": "python3"
  },
  "language_info": {
   "codemirror_mode": {
    "name": "ipython",
    "version": 3
   },
   "file_extension": ".py",
   "mimetype": "text/x-python",
   "name": "python",
   "nbconvert_exporter": "python",
   "pygments_lexer": "ipython3",
   "version": "3.11.5"
  }
 },
 "nbformat": 4,
 "nbformat_minor": 5
}
