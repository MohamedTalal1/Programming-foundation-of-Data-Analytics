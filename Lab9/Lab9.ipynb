{
 "cells": [
  {
   "cell_type": "markdown",
   "id": "01d944e4",
   "metadata": {},
   "source": [
    "### Q1"
   ]
  },
  {
   "cell_type": "markdown",
   "id": "a92c148c",
   "metadata": {},
   "source": [
    "##### a."
   ]
  },
  {
   "cell_type": "code",
   "execution_count": 20,
   "id": "e29298a6",
   "metadata": {},
   "outputs": [
    {
     "data": {
      "text/plain": [
       "15"
      ]
     },
     "execution_count": 20,
     "metadata": {},
     "output_type": "execute_result"
    }
   ],
   "source": [
    "x=[1,2,3,4,5]\n",
    "\n",
    "result = sum(x)\n",
    "result"
   ]
  },
  {
   "cell_type": "markdown",
   "id": "43e0baf3",
   "metadata": {},
   "source": [
    "##### b."
   ]
  },
  {
   "cell_type": "code",
   "execution_count": 21,
   "id": "c5f64606",
   "metadata": {},
   "outputs": [
    {
     "data": {
      "text/plain": [
       "6"
      ]
     },
     "execution_count": 21,
     "metadata": {},
     "output_type": "execute_result"
    }
   ],
   "source": [
    "result = sum(x[i] for i in range(len(x)) if i%2 != 0)\n",
    "result"
   ]
  },
  {
   "cell_type": "markdown",
   "id": "1ec5e9e6",
   "metadata": {},
   "source": [
    "##### c."
   ]
  },
  {
   "cell_type": "code",
   "execution_count": 22,
   "id": "2ce45771",
   "metadata": {},
   "outputs": [
    {
     "data": {
      "text/plain": [
       "5"
      ]
     },
     "execution_count": 22,
     "metadata": {},
     "output_type": "execute_result"
    }
   ],
   "source": [
    "x=[1,2,3,4,5]\n",
    "\n",
    "result = sum(1 for d in x if d>0)\n",
    "result"
   ]
  },
  {
   "cell_type": "markdown",
   "id": "76b77d22",
   "metadata": {},
   "source": [
    "##### d."
   ]
  },
  {
   "cell_type": "code",
   "execution_count": 23,
   "id": "96b8015e",
   "metadata": {},
   "outputs": [
    {
     "data": {
      "text/plain": [
       "True"
      ]
     },
     "execution_count": 23,
     "metadata": {},
     "output_type": "execute_result"
    }
   ],
   "source": [
    "result= False\n",
    "result = any(x[i]>0 for i in range(len(x)))\n",
    "result"
   ]
  },
  {
   "cell_type": "markdown",
   "id": "f1022e65",
   "metadata": {},
   "source": [
    "### Q2"
   ]
  },
  {
   "cell_type": "markdown",
   "id": "6ca3db34",
   "metadata": {},
   "source": [
    "The issue with the code is that the recursion doesn't have a base case to stop the recursion. Here is the corrected code:"
   ]
  },
  {
   "cell_type": "code",
   "execution_count": 26,
   "id": "820128c1",
   "metadata": {},
   "outputs": [
    {
     "name": "stdout",
     "output_type": "stream",
     "text": [
      "10\n"
     ]
    }
   ],
   "source": [
    "def sumVal(N):\n",
    "    if N<=0:\n",
    "        return 0\n",
    "    return N+sumVal(N-1)\n",
    "print(sumVal(4))"
   ]
  },
  {
   "cell_type": "markdown",
   "id": "845b4de0",
   "metadata": {},
   "source": [
    "### Q3"
   ]
  },
  {
   "cell_type": "markdown",
   "id": "50d4e0d4",
   "metadata": {},
   "source": [
    "This function computes the greatest common divisor (GCD) of two integers"
   ]
  },
  {
   "cell_type": "code",
   "execution_count": 31,
   "id": "e6f71955",
   "metadata": {},
   "outputs": [
    {
     "name": "stdout",
     "output_type": "stream",
     "text": [
      "12\n",
      "3\n"
     ]
    }
   ],
   "source": [
    "def f(x, y):\n",
    "    if y == 0:\n",
    "        return x\n",
    "    return f(y, x % y)\n",
    "\n",
    "print (f(60, 48))\n",
    "print (f(33, 21))"
   ]
  },
  {
   "cell_type": "markdown",
   "id": "8a606e29",
   "metadata": {},
   "source": [
    "### Q4"
   ]
  },
  {
   "cell_type": "markdown",
   "id": "3a2fb459",
   "metadata": {},
   "source": [
    "The provided code defines a recursive function showList(a) that prints the elements of a list. It starts by printing the first element of the list and then recursively calls itself with the rest of the list\n",
    "\n",
    "steps:\n",
    "1. call showlist ([2, 3, 4, 10]):\n",
    "2. Print the first element: 2\n",
    "3. Recursive call with the rest of the list: showList([3, 4, 10])\n",
    "4. Call showList([3, 4, 10]):\n",
    "5. Print the first element: 3\n",
    "6. Recursive call with the rest of the list: showList([4, 10])\n",
    "\n",
    "**REPEAT**\n",
    "\n",
    "\n",
    "Modify the above code to print the list in the reverse order:"
   ]
  },
  {
   "cell_type": "code",
   "execution_count": 32,
   "id": "ffb0b0e3",
   "metadata": {},
   "outputs": [
    {
     "name": "stdout",
     "output_type": "stream",
     "text": [
      "10\n",
      "4\n",
      "3\n",
      "2\n"
     ]
    }
   ],
   "source": [
    "def showListReverse(a):\n",
    "    if a == []:  # if list is empty, then nothing to show, just return\n",
    "        return\n",
    "    showListReverse(a[1:])\n",
    "    print(a[0])\n",
    "\n",
    "showListReverse([2, 3, 4, 10])"
   ]
  },
  {
   "cell_type": "markdown",
   "id": "9877e3b7",
   "metadata": {},
   "source": [
    "### Q5"
   ]
  },
  {
   "cell_type": "code",
   "execution_count": 34,
   "id": "29b2d358",
   "metadata": {},
   "outputs": [
    {
     "data": {
      "text/plain": [
       "55"
      ]
     },
     "execution_count": 34,
     "metadata": {},
     "output_type": "execute_result"
    }
   ],
   "source": [
    "def sum_series(x):\n",
    "    if x==1:\n",
    "        return 1\n",
    "    else:\n",
    "        return x**2 + sum_series(x-1)\n",
    "\n",
    "sum_series(5)"
   ]
  },
  {
   "cell_type": "markdown",
   "id": "743f09b1",
   "metadata": {},
   "source": [
    "### Q6"
   ]
  },
  {
   "cell_type": "code",
   "execution_count": 37,
   "id": "548b0ed5",
   "metadata": {},
   "outputs": [
    {
     "data": {
      "text/plain": [
       "15"
      ]
     },
     "execution_count": 37,
     "metadata": {},
     "output_type": "execute_result"
    }
   ],
   "source": [
    "def sum_list(list):\n",
    "    if not list: \n",
    "        return 0\n",
    "    else:\n",
    "        return list[0] + sum_list(list[1:])\n",
    "    \n",
    "list = [1, 2, 3, 4, 5]\n",
    "sum_list(list)"
   ]
  },
  {
   "cell_type": "markdown",
   "id": "5f9b7bb0",
   "metadata": {},
   "source": [
    "### Q7"
   ]
  },
  {
   "cell_type": "code",
   "execution_count": 42,
   "id": "44f0dd9e",
   "metadata": {},
   "outputs": [
    {
     "data": {
      "text/plain": [
       "5"
      ]
     },
     "execution_count": 42,
     "metadata": {},
     "output_type": "execute_result"
    }
   ],
   "source": [
    "def count_list(list):\n",
    "    count = 0\n",
    "    if not list: \n",
    "        return 0\n",
    "    else:\n",
    "         return 1 + count_list(list[1:])\n",
    "\n",
    "count_list(list)"
   ]
  },
  {
   "cell_type": "markdown",
   "id": "5d6575a0",
   "metadata": {},
   "source": [
    "### Q8"
   ]
  },
  {
   "cell_type": "code",
   "execution_count": 44,
   "id": "43c1c708",
   "metadata": {},
   "outputs": [
    {
     "name": "stdout",
     "output_type": "stream",
     "text": [
      "Enter the maximum length in feet (a positive integer): 6\n",
      "\n",
      "Length Conversion Chart:\n",
      "Feet\tMeters\n",
      "--------------\n",
      "1\t0.3048\n",
      "2\t0.6096\n",
      "3\t0.9144\n",
      "4\t1.2192\n",
      "5\t1.5240\n",
      "6\t1.8288\n"
     ]
    }
   ],
   "source": [
    "def get_max_length():\n",
    "    while True:\n",
    "        try:\n",
    "            max_length = int(input(\"Enter the maximum length in feet (a positive integer): \"))\n",
    "            if max_length > 0:\n",
    "                return max_length\n",
    "            else:\n",
    "                print(\"Please enter a valid positive integer.\")\n",
    "        except ValueError:\n",
    "            print(\"Invalid input. Please enter a valid positive integer.\")\n",
    "\n",
    "def print_conversion_chart(max_length):\n",
    "    print(\"\\nLength Conversion Chart:\")\n",
    "    print(\"Feet\\tMeters\")\n",
    "    print(\"--------------\")\n",
    "    for feet in range(1, max_length + 1):\n",
    "        meters = feet * 0.3048\n",
    "        print(f\"{feet}\\t{meters:.4f}\")\n",
    "        \n",
    "l = get_max_length()\n",
    "print_conversion_chart(l)"
   ]
  },
  {
   "cell_type": "markdown",
   "id": "dae162a0",
   "metadata": {},
   "source": [
    "### Q9"
   ]
  },
  {
   "cell_type": "code",
   "execution_count": 46,
   "id": "7b9cbfe6",
   "metadata": {},
   "outputs": [
    {
     "name": "stdout",
     "output_type": "stream",
     "text": [
      "Average Waiting time = 15.67\n",
      "\n",
      "IDs for customers who waited longer than average are:\n",
      "[21, 35]\n"
     ]
    }
   ],
   "source": [
    "def get_positive_array(input):\n",
    "    array = input.split()\n",
    "    return [int(x) for x in array if int(x) > 0]\n",
    "\n",
    "def compute_average(wait_times):\n",
    "    if not wait_times:\n",
    "        return 0\n",
    "    return sum(wait_times) / len(wait_times)\n",
    "\n",
    "def get_id_long_wait(customer_ids, waiting_times, average_wait):\n",
    "    return [customer_ids[i] for i in range(len(waiting_times)) if waiting_times[i] > average_wait]\n",
    "\n",
    "id_input = \"34 12 21 35 78 18\"  \n",
    "Wait_input = \"15 2 24 32 13 8\"\n",
    "\n",
    "id = get_positive_array(id_input)\n",
    "Wait = get_positive_array(Wait_input)\n",
    "Avg = compute_average(Wait)\n",
    "\n",
    "print('Average Waiting time = %.2f\\n' % Avg)\n",
    "idLongWait = get_id_long_wait(id, Wait, Avg)\n",
    "print('IDs for customers who waited longer than average are:')\n",
    "print(idLongWait)"
   ]
  }
 ],
 "metadata": {
  "kernelspec": {
   "display_name": "Python 3 (ipykernel)",
   "language": "python",
   "name": "python3"
  },
  "language_info": {
   "codemirror_mode": {
    "name": "ipython",
    "version": 3
   },
   "file_extension": ".py",
   "mimetype": "text/x-python",
   "name": "python",
   "nbconvert_exporter": "python",
   "pygments_lexer": "ipython3",
   "version": "3.11.5"
  }
 },
 "nbformat": 4,
 "nbformat_minor": 5
}
